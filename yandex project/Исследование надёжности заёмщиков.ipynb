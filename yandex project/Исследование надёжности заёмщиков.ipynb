{
 "cells": [
  {
   "cell_type": "markdown",
   "metadata": {},
   "source": [
    "# Содержание\n",
    "1. [Описание проекта](#description),\n",
    "2. [Открытие данных](#1),\n",
    "3. [Предобработка данных](#2),\n",
    "   * [Обработка пропусков](#3),\n",
    "   * [Замена типа данных](#4),\n",
    "   * [Обработка дубликатов](#5),\n",
    "   * [Лемматизация](#6),\n",
    "   * [Категоризация данных](#7),\n",
    "4. [Ответы на вопросы](#8),\n",
    "5. [Общий вывод](#9),\n"
   ]
  },
  {
   "cell_type": "markdown",
   "metadata": {},
   "source": [
    "## Описание проекта  <a id='description'></a>"
   ]
  },
  {
   "cell_type": "markdown",
   "metadata": {},
   "source": [
    "## Исследование надёжности заёмщиков\n",
    "\n",
    "Заказчик — кредитный отдел банка. Нужно разобраться, влияет ли семейное положение и количество детей клиента на факт погашения кредита в срок. Входные данные от банка — статистика о платёжеспособности клиентов.\n",
    "\n",
    "Результаты исследования будут учтены при построении модели **кредитного скоринга** — специальной системы, которая оценивает способность потенциального заёмщика вернуть кредит банку."
   ]
  },
  {
   "cell_type": "markdown",
   "metadata": {},
   "source": [
    "### Шаг 1. Откройте файл с данными и изучите общую информацию.  <a id='1'></a>"
   ]
  },
  {
   "cell_type": "code",
   "execution_count": 1,
   "metadata": {},
   "outputs": [
    {
     "name": "stdout",
     "output_type": "stream",
     "text": [
      "<class 'pandas.core.frame.DataFrame'>\n",
      "RangeIndex: 21525 entries, 0 to 21524\n",
      "Data columns (total 12 columns):\n",
      "children            21525 non-null int64\n",
      "days_employed       19351 non-null float64\n",
      "dob_years           21525 non-null int64\n",
      "education           21525 non-null object\n",
      "education_id        21525 non-null int64\n",
      "family_status       21525 non-null object\n",
      "family_status_id    21525 non-null int64\n",
      "gender              21525 non-null object\n",
      "income_type         21525 non-null object\n",
      "debt                21525 non-null int64\n",
      "total_income        19351 non-null float64\n",
      "purpose             21525 non-null object\n",
      "dtypes: float64(2), int64(5), object(5)\n",
      "memory usage: 2.0+ MB\n"
     ]
    },
    {
     "data": {
      "text/html": [
       "<div>\n",
       "<style scoped>\n",
       "    .dataframe tbody tr th:only-of-type {\n",
       "        vertical-align: middle;\n",
       "    }\n",
       "\n",
       "    .dataframe tbody tr th {\n",
       "        vertical-align: top;\n",
       "    }\n",
       "\n",
       "    .dataframe thead th {\n",
       "        text-align: right;\n",
       "    }\n",
       "</style>\n",
       "<table border=\"1\" class=\"dataframe\">\n",
       "  <thead>\n",
       "    <tr style=\"text-align: right;\">\n",
       "      <th></th>\n",
       "      <th>children</th>\n",
       "      <th>days_employed</th>\n",
       "      <th>dob_years</th>\n",
       "      <th>education</th>\n",
       "      <th>education_id</th>\n",
       "      <th>family_status</th>\n",
       "      <th>family_status_id</th>\n",
       "      <th>gender</th>\n",
       "      <th>income_type</th>\n",
       "      <th>debt</th>\n",
       "      <th>total_income</th>\n",
       "      <th>purpose</th>\n",
       "    </tr>\n",
       "  </thead>\n",
       "  <tbody>\n",
       "    <tr>\n",
       "      <td>0</td>\n",
       "      <td>1</td>\n",
       "      <td>-8437.673028</td>\n",
       "      <td>42</td>\n",
       "      <td>высшее</td>\n",
       "      <td>0</td>\n",
       "      <td>женат / замужем</td>\n",
       "      <td>0</td>\n",
       "      <td>F</td>\n",
       "      <td>сотрудник</td>\n",
       "      <td>0</td>\n",
       "      <td>253875.639453</td>\n",
       "      <td>покупка жилья</td>\n",
       "    </tr>\n",
       "    <tr>\n",
       "      <td>1</td>\n",
       "      <td>1</td>\n",
       "      <td>-4024.803754</td>\n",
       "      <td>36</td>\n",
       "      <td>среднее</td>\n",
       "      <td>1</td>\n",
       "      <td>женат / замужем</td>\n",
       "      <td>0</td>\n",
       "      <td>F</td>\n",
       "      <td>сотрудник</td>\n",
       "      <td>0</td>\n",
       "      <td>112080.014102</td>\n",
       "      <td>приобретение автомобиля</td>\n",
       "    </tr>\n",
       "    <tr>\n",
       "      <td>2</td>\n",
       "      <td>0</td>\n",
       "      <td>-5623.422610</td>\n",
       "      <td>33</td>\n",
       "      <td>Среднее</td>\n",
       "      <td>1</td>\n",
       "      <td>женат / замужем</td>\n",
       "      <td>0</td>\n",
       "      <td>M</td>\n",
       "      <td>сотрудник</td>\n",
       "      <td>0</td>\n",
       "      <td>145885.952297</td>\n",
       "      <td>покупка жилья</td>\n",
       "    </tr>\n",
       "    <tr>\n",
       "      <td>3</td>\n",
       "      <td>3</td>\n",
       "      <td>-4124.747207</td>\n",
       "      <td>32</td>\n",
       "      <td>среднее</td>\n",
       "      <td>1</td>\n",
       "      <td>женат / замужем</td>\n",
       "      <td>0</td>\n",
       "      <td>M</td>\n",
       "      <td>сотрудник</td>\n",
       "      <td>0</td>\n",
       "      <td>267628.550329</td>\n",
       "      <td>дополнительное образование</td>\n",
       "    </tr>\n",
       "    <tr>\n",
       "      <td>4</td>\n",
       "      <td>0</td>\n",
       "      <td>340266.072047</td>\n",
       "      <td>53</td>\n",
       "      <td>среднее</td>\n",
       "      <td>1</td>\n",
       "      <td>гражданский брак</td>\n",
       "      <td>1</td>\n",
       "      <td>F</td>\n",
       "      <td>пенсионер</td>\n",
       "      <td>0</td>\n",
       "      <td>158616.077870</td>\n",
       "      <td>сыграть свадьбу</td>\n",
       "    </tr>\n",
       "    <tr>\n",
       "      <td>5</td>\n",
       "      <td>0</td>\n",
       "      <td>-926.185831</td>\n",
       "      <td>27</td>\n",
       "      <td>высшее</td>\n",
       "      <td>0</td>\n",
       "      <td>гражданский брак</td>\n",
       "      <td>1</td>\n",
       "      <td>M</td>\n",
       "      <td>компаньон</td>\n",
       "      <td>0</td>\n",
       "      <td>255763.565419</td>\n",
       "      <td>покупка жилья</td>\n",
       "    </tr>\n",
       "    <tr>\n",
       "      <td>6</td>\n",
       "      <td>0</td>\n",
       "      <td>-2879.202052</td>\n",
       "      <td>43</td>\n",
       "      <td>высшее</td>\n",
       "      <td>0</td>\n",
       "      <td>женат / замужем</td>\n",
       "      <td>0</td>\n",
       "      <td>F</td>\n",
       "      <td>компаньон</td>\n",
       "      <td>0</td>\n",
       "      <td>240525.971920</td>\n",
       "      <td>операции с жильем</td>\n",
       "    </tr>\n",
       "    <tr>\n",
       "      <td>7</td>\n",
       "      <td>0</td>\n",
       "      <td>-152.779569</td>\n",
       "      <td>50</td>\n",
       "      <td>СРЕДНЕЕ</td>\n",
       "      <td>1</td>\n",
       "      <td>женат / замужем</td>\n",
       "      <td>0</td>\n",
       "      <td>M</td>\n",
       "      <td>сотрудник</td>\n",
       "      <td>0</td>\n",
       "      <td>135823.934197</td>\n",
       "      <td>образование</td>\n",
       "    </tr>\n",
       "    <tr>\n",
       "      <td>8</td>\n",
       "      <td>2</td>\n",
       "      <td>-6929.865299</td>\n",
       "      <td>35</td>\n",
       "      <td>ВЫСШЕЕ</td>\n",
       "      <td>0</td>\n",
       "      <td>гражданский брак</td>\n",
       "      <td>1</td>\n",
       "      <td>F</td>\n",
       "      <td>сотрудник</td>\n",
       "      <td>0</td>\n",
       "      <td>95856.832424</td>\n",
       "      <td>на проведение свадьбы</td>\n",
       "    </tr>\n",
       "    <tr>\n",
       "      <td>9</td>\n",
       "      <td>0</td>\n",
       "      <td>-2188.756445</td>\n",
       "      <td>41</td>\n",
       "      <td>среднее</td>\n",
       "      <td>1</td>\n",
       "      <td>женат / замужем</td>\n",
       "      <td>0</td>\n",
       "      <td>M</td>\n",
       "      <td>сотрудник</td>\n",
       "      <td>0</td>\n",
       "      <td>144425.938277</td>\n",
       "      <td>покупка жилья для семьи</td>\n",
       "    </tr>\n",
       "  </tbody>\n",
       "</table>\n",
       "</div>"
      ],
      "text/plain": [
       "   children  days_employed  dob_years education  education_id  \\\n",
       "0         1   -8437.673028         42    высшее             0   \n",
       "1         1   -4024.803754         36   среднее             1   \n",
       "2         0   -5623.422610         33   Среднее             1   \n",
       "3         3   -4124.747207         32   среднее             1   \n",
       "4         0  340266.072047         53   среднее             1   \n",
       "5         0    -926.185831         27    высшее             0   \n",
       "6         0   -2879.202052         43    высшее             0   \n",
       "7         0    -152.779569         50   СРЕДНЕЕ             1   \n",
       "8         2   -6929.865299         35    ВЫСШЕЕ             0   \n",
       "9         0   -2188.756445         41   среднее             1   \n",
       "\n",
       "      family_status  family_status_id gender income_type  debt   total_income  \\\n",
       "0   женат / замужем                 0      F   сотрудник     0  253875.639453   \n",
       "1   женат / замужем                 0      F   сотрудник     0  112080.014102   \n",
       "2   женат / замужем                 0      M   сотрудник     0  145885.952297   \n",
       "3   женат / замужем                 0      M   сотрудник     0  267628.550329   \n",
       "4  гражданский брак                 1      F   пенсионер     0  158616.077870   \n",
       "5  гражданский брак                 1      M   компаньон     0  255763.565419   \n",
       "6   женат / замужем                 0      F   компаньон     0  240525.971920   \n",
       "7   женат / замужем                 0      M   сотрудник     0  135823.934197   \n",
       "8  гражданский брак                 1      F   сотрудник     0   95856.832424   \n",
       "9   женат / замужем                 0      M   сотрудник     0  144425.938277   \n",
       "\n",
       "                      purpose  \n",
       "0               покупка жилья  \n",
       "1     приобретение автомобиля  \n",
       "2               покупка жилья  \n",
       "3  дополнительное образование  \n",
       "4             сыграть свадьбу  \n",
       "5               покупка жилья  \n",
       "6           операции с жильем  \n",
       "7                 образование  \n",
       "8       на проведение свадьбы  \n",
       "9     покупка жилья для семьи  "
      ]
     },
     "metadata": {},
     "output_type": "display_data"
    }
   ],
   "source": [
    "import pandas as pd\n",
    "df = pd.read_csv('/datasets/data.csv')\n",
    "df.info()\n",
    "display(df.head(10))"
   ]
  },
  {
   "cell_type": "markdown",
   "metadata": {},
   "source": [
    "### Вывод"
   ]
  },
  {
   "cell_type": "markdown",
   "metadata": {},
   "source": [
    "Информация о таблице получена методом df.info(). Поменять тип данных days_employed на целочисленный, для удобства подсчета стажа. df.head(10) выводит первые 10 строк таблицы. В total_income выводить 2 знака после запятой, так как это денежное выражение. Привести к нижнему регистру."
   ]
  },
  {
   "cell_type": "markdown",
   "metadata": {},
   "source": [
    "### Шаг 2. Предобработка данных <a id='2'></a>"
   ]
  },
  {
   "cell_type": "markdown",
   "metadata": {},
   "source": [
    "### Обработка пропусков <a id='3'></a>\n",
    "Подсчет суммы пропущенных строк методом isnull().sum()"
   ]
  },
  {
   "cell_type": "code",
   "execution_count": 2,
   "metadata": {},
   "outputs": [
    {
     "name": "stdout",
     "output_type": "stream",
     "text": [
      "children               0\n",
      "days_employed       2174\n",
      "dob_years              0\n",
      "education              0\n",
      "education_id           0\n",
      "family_status          0\n",
      "family_status_id       0\n",
      "gender                 0\n",
      "income_type            0\n",
      "debt                   0\n",
      "total_income        2174\n",
      "purpose                0\n",
      "dtype: int64\n"
     ]
    }
   ],
   "source": [
    "print(df.isnull().sum())"
   ]
  },
  {
   "cell_type": "markdown",
   "metadata": {},
   "source": [
    "Пропущенные значения присутствуют в двух столбцах days_employed и total_sum, их количество совпадает. Проверим совпадают ли пропущенные значения."
   ]
  },
  {
   "cell_type": "code",
   "execution_count": 3,
   "metadata": {},
   "outputs": [
    {
     "name": "stdout",
     "output_type": "stream",
     "text": [
      "    children  days_employed  dob_years education  education_id  \\\n",
      "12         0            NaN         65   среднее             1   \n",
      "26         0            NaN         41   среднее             1   \n",
      "29         0            NaN         63   среднее             1   \n",
      "41         0            NaN         50   среднее             1   \n",
      "55         0            NaN         54   среднее             1   \n",
      "65         0            NaN         21   среднее             1   \n",
      "67         0            NaN         52    высшее             0   \n",
      "72         1            NaN         32    высшее             0   \n",
      "82         2            NaN         50    высшее             0   \n",
      "83         0            NaN         52   среднее             1   \n",
      "\n",
      "            family_status  family_status_id gender  income_type  debt  \\\n",
      "12       гражданский брак                 1      M    пенсионер     0   \n",
      "26        женат / замужем                 0      M  госслужащий     0   \n",
      "29  Не женат / не замужем                 4      F    пенсионер     0   \n",
      "41        женат / замужем                 0      F  госслужащий     0   \n",
      "55       гражданский брак                 1      F    пенсионер     1   \n",
      "65  Не женат / не замужем                 4      M    компаньон     0   \n",
      "67        женат / замужем                 0      F    пенсионер     0   \n",
      "72        женат / замужем                 0      M  госслужащий     0   \n",
      "82        женат / замужем                 0      F    сотрудник     0   \n",
      "83        женат / замужем                 0      M    сотрудник     0   \n",
      "\n",
      "    total_income                                purpose  \n",
      "12           NaN                        сыграть свадьбу  \n",
      "26           NaN                            образование  \n",
      "29           NaN       строительство жилой недвижимости  \n",
      "41           NaN       сделка с подержанным автомобилем  \n",
      "55           NaN                        сыграть свадьбу  \n",
      "65           NaN  операции с коммерческой недвижимостью  \n",
      "67           NaN                покупка жилья для семьи  \n",
      "72           NaN  операции с коммерческой недвижимостью  \n",
      "82           NaN                                  жилье  \n",
      "83           NaN                                  жилье  \n"
     ]
    }
   ],
   "source": [
    "print(df[df['days_employed'].isnull()].head(10))"
   ]
  },
  {
   "cell_type": "markdown",
   "metadata": {},
   "source": [
    "Видно что пропущенные значения в столбцах совпадают. Проверим у каких групп заемщиков есть пропущенные значения и просуммируем их."
   ]
  },
  {
   "cell_type": "code",
   "execution_count": 4,
   "metadata": {},
   "outputs": [
    {
     "name": "stdout",
     "output_type": "stream",
     "text": [
      "                 children  days_employed  dob_years  education  education_id  \\\n",
      "income_type                                                                    \n",
      "госслужащий           147              0        147        147           147   \n",
      "компаньон             508              0        508        508           508   \n",
      "пенсионер             413              0        413        413           413   \n",
      "предприниматель         1              0          1          1             1   \n",
      "сотрудник            1105              0       1105       1105          1105   \n",
      "\n",
      "                 family_status  family_status_id  gender  debt  total_income  \\\n",
      "income_type                                                                    \n",
      "госслужащий                147               147     147   147             0   \n",
      "компаньон                  508               508     508   508             0   \n",
      "пенсионер                  413               413     413   413             0   \n",
      "предприниматель              1                 1       1     1             0   \n",
      "сотрудник                 1105              1105    1105  1105             0   \n",
      "\n",
      "                 purpose  \n",
      "income_type               \n",
      "госслужащий          147  \n",
      "компаньон            508  \n",
      "пенсионер            413  \n",
      "предприниматель        1  \n",
      "сотрудник           1105  \n"
     ]
    }
   ],
   "source": [
    "print(df[df['total_income'].isnull()].groupby('income_type').count())"
   ]
  },
  {
   "cell_type": "markdown",
   "metadata": {},
   "source": [
    "Пропущенные значения есть у госслужащих, компьонов, пенсионеров, предпринимателей, сотрудников. Заменим пропущенные значения медианным. Для подсчета среднего значения создадим датафрейм без пропущенных значений."
   ]
  },
  {
   "cell_type": "code",
   "execution_count": 5,
   "metadata": {},
   "outputs": [
    {
     "name": "stdout",
     "output_type": "stream",
     "text": [
      "<class 'pandas.core.frame.DataFrame'>\n",
      "RangeIndex: 19351 entries, 0 to 19350\n",
      "Data columns (total 12 columns):\n",
      "children            19351 non-null int64\n",
      "days_employed       19351 non-null float64\n",
      "dob_years           19351 non-null int64\n",
      "education           19351 non-null object\n",
      "education_id        19351 non-null int64\n",
      "family_status       19351 non-null object\n",
      "family_status_id    19351 non-null int64\n",
      "gender              19351 non-null object\n",
      "income_type         19351 non-null object\n",
      "debt                19351 non-null int64\n",
      "total_income        19351 non-null float64\n",
      "purpose             19351 non-null object\n",
      "dtypes: float64(2), int64(5), object(5)\n",
      "memory usage: 1.8+ MB\n",
      "None\n"
     ]
    }
   ],
   "source": [
    "df_dropna = df.dropna().reset_index(drop = True)\n",
    "print(df_dropna.info())"
   ]
  },
  {
   "cell_type": "code",
   "execution_count": 6,
   "metadata": {},
   "outputs": [
    {
     "name": "stdout",
     "output_type": "stream",
     "text": [
      "income_type\n",
      "безработный        131339.751676\n",
      "в декрете           53829.130729\n",
      "госслужащий        150447.935283\n",
      "компаньон          172357.950966\n",
      "пенсионер          118514.486412\n",
      "предприниматель    499163.144947\n",
      "сотрудник          142594.396847\n",
      "студент             98201.625314\n",
      "Name: total_income, dtype: float64\n"
     ]
    }
   ],
   "source": [
    "print(df_dropna.groupby('income_type')['total_income'].median())"
   ]
  },
  {
   "cell_type": "markdown",
   "metadata": {},
   "source": [
    "Сохраним каждое медианное значения в переменные."
   ]
  },
  {
   "cell_type": "code",
   "execution_count": 7,
   "metadata": {},
   "outputs": [
    {
     "name": "stdout",
     "output_type": "stream",
     "text": [
      "150447.9352830068\n",
      "172357.95096577113\n",
      "118514.48641164352\n",
      "499163.1449470857\n",
      "142594.39684740017\n"
     ]
    }
   ],
   "source": [
    "grouped_df = df_dropna.groupby('income_type').agg({'total_income' : ['median']})\n",
    "state_employee = grouped_df['total_income'].loc[:, 'median'][2]\n",
    "companion = grouped_df['total_income'].loc[:, 'median'][3]\n",
    "pensioner = grouped_df['total_income'].loc[:, 'median'][4]\n",
    "businessman = grouped_df['total_income'].loc[:, 'median'][5]\n",
    "employee = grouped_df['total_income'].loc[:, 'median'][6]\n",
    "print(state_employee)\n",
    "print(companion)\n",
    "print(pensioner)\n",
    "print(businessman)\n",
    "print(employee)"
   ]
  },
  {
   "cell_type": "markdown",
   "metadata": {},
   "source": [
    "Заменим пропущенные значения в столбце days_employed на 0 методом fillna() и заменим значения в total_income на среднее. Проверим пропущенные значения в таблице методом info()."
   ]
  },
  {
   "cell_type": "code",
   "execution_count": 8,
   "metadata": {},
   "outputs": [
    {
     "name": "stdout",
     "output_type": "stream",
     "text": [
      "<class 'pandas.core.frame.DataFrame'>\n",
      "RangeIndex: 21525 entries, 0 to 21524\n",
      "Data columns (total 12 columns):\n",
      "children            21525 non-null int64\n",
      "days_employed       21525 non-null float64\n",
      "dob_years           21525 non-null int64\n",
      "education           21525 non-null object\n",
      "education_id        21525 non-null int64\n",
      "family_status       21525 non-null object\n",
      "family_status_id    21525 non-null int64\n",
      "gender              21525 non-null object\n",
      "income_type         21525 non-null object\n",
      "debt                21525 non-null int64\n",
      "total_income        21525 non-null float64\n",
      "purpose             21525 non-null object\n",
      "dtypes: float64(2), int64(5), object(5)\n",
      "memory usage: 2.0+ MB\n",
      "None\n"
     ]
    }
   ],
   "source": [
    "df['days_employed'] = df['days_employed'].fillna(0)\n",
    "df.loc[(df['total_income'].isnull()) & (df['income_type'] == 'госслужащий'), 'total_income'] = state_employee\n",
    "df.loc[(df['total_income'].isnull()) & (df['income_type'] == 'компаньон'), 'total_income'] = companion\n",
    "df.loc[(df['total_income'].isnull()) & (df['income_type'] == 'пенсионер'), 'total_income'] = pensioner\n",
    "df.loc[(df['total_income'].isnull()) & (df['income_type'] == 'предприниматель'), 'total_income'] = businessman\n",
    "df.loc[(df['total_income'].isnull()) & (df['income_type'] == 'сотрудник'), 'total_income'] = employee\n",
    "print(df.info())"
   ]
  },
  {
   "cell_type": "markdown",
   "metadata": {},
   "source": [
    "### Вывод"
   ]
  },
  {
   "cell_type": "markdown",
   "metadata": {},
   "source": [
    "Подсчет пропусков получен методом isnull().sum(). Пропущенные значения присутствовали в двух столбцах: days_employed и total_income. Принято решение заполнить пропущенные значения в days_employed на 0, в total_income на медианные."
   ]
  },
  {
   "cell_type": "markdown",
   "metadata": {},
   "source": [
    "### Замена типа данных <a id='4'></a>"
   ]
  },
  {
   "cell_type": "markdown",
   "metadata": {},
   "source": [
    "В целом типы данных определены правильно. Приведем days_employed и total_income к целочисленому виду."
   ]
  },
  {
   "cell_type": "code",
   "execution_count": 9,
   "metadata": {},
   "outputs": [
    {
     "name": "stdout",
     "output_type": "stream",
     "text": [
      "   children  days_employed  dob_years education  education_id  \\\n",
      "0         1          -8437         42    высшее             0   \n",
      "1         1          -4024         36   среднее             1   \n",
      "2         0          -5623         33   Среднее             1   \n",
      "3         3          -4124         32   среднее             1   \n",
      "4         0         340266         53   среднее             1   \n",
      "\n",
      "      family_status  family_status_id gender income_type  debt  total_income  \\\n",
      "0   женат / замужем                 0      F   сотрудник     0        253875   \n",
      "1   женат / замужем                 0      F   сотрудник     0        112080   \n",
      "2   женат / замужем                 0      M   сотрудник     0        145885   \n",
      "3   женат / замужем                 0      M   сотрудник     0        267628   \n",
      "4  гражданский брак                 1      F   пенсионер     0        158616   \n",
      "\n",
      "                      purpose  \n",
      "0               покупка жилья  \n",
      "1     приобретение автомобиля  \n",
      "2               покупка жилья  \n",
      "3  дополнительное образование  \n",
      "4             сыграть свадьбу  \n",
      "<class 'pandas.core.frame.DataFrame'>\n",
      "RangeIndex: 21525 entries, 0 to 21524\n",
      "Data columns (total 12 columns):\n",
      "children            21525 non-null int64\n",
      "days_employed       21525 non-null int64\n",
      "dob_years           21525 non-null int64\n",
      "education           21525 non-null object\n",
      "education_id        21525 non-null int64\n",
      "family_status       21525 non-null object\n",
      "family_status_id    21525 non-null int64\n",
      "gender              21525 non-null object\n",
      "income_type         21525 non-null object\n",
      "debt                21525 non-null int64\n",
      "total_income        21525 non-null int64\n",
      "purpose             21525 non-null object\n",
      "dtypes: int64(7), object(5)\n",
      "memory usage: 2.0+ MB\n",
      "None\n"
     ]
    }
   ],
   "source": [
    "df['days_employed'] = df['days_employed'].astype('int')\n",
    "df['total_income'] = df['total_income'].astype('int')\n",
    "print(df.head())\n",
    "print(df.info())"
   ]
  },
  {
   "cell_type": "markdown",
   "metadata": {},
   "source": [
    "### Вывод"
   ]
  },
  {
   "cell_type": "markdown",
   "metadata": {},
   "source": [
    "Тип данных float двух столбцов был заменен на тип данных int."
   ]
  },
  {
   "cell_type": "markdown",
   "metadata": {},
   "source": [
    "### Обработка дубликатов <a id='5'></a>"
   ]
  },
  {
   "cell_type": "markdown",
   "metadata": {},
   "source": [
    "Проверим количество дубликатов."
   ]
  },
  {
   "cell_type": "code",
   "execution_count": 10,
   "metadata": {},
   "outputs": [
    {
     "name": "stdout",
     "output_type": "stream",
     "text": [
      "54\n"
     ]
    }
   ],
   "source": [
    "print(df.duplicated().sum())"
   ]
  },
  {
   "cell_type": "markdown",
   "metadata": {},
   "source": [
    "Приведем регистр записей к единому виду - нижнему регистру, методом str.lower()."
   ]
  },
  {
   "cell_type": "code",
   "execution_count": 11,
   "metadata": {},
   "outputs": [
    {
     "name": "stdout",
     "output_type": "stream",
     "text": [
      "71\n"
     ]
    }
   ],
   "source": [
    "df['education'] = df['education'].str.lower()\n",
    "df['family_status'] = df['family_status'].str.lower()\n",
    "df['income_type'] = df['income_type'].str.lower()\n",
    "df['purpose'] = df['purpose'].str.lower()\n",
    "print(df.duplicated().sum())"
   ]
  },
  {
   "cell_type": "markdown",
   "metadata": {},
   "source": [
    "Количество дубликатов 71, удалим данные повторы из таблицы и сбросим индексацию."
   ]
  },
  {
   "cell_type": "code",
   "execution_count": 12,
   "metadata": {},
   "outputs": [
    {
     "name": "stdout",
     "output_type": "stream",
     "text": [
      "0\n"
     ]
    }
   ],
   "source": [
    "df = df.drop_duplicates().reset_index(drop = True)\n",
    "print(df.duplicated().sum())"
   ]
  },
  {
   "cell_type": "markdown",
   "metadata": {},
   "source": [
    "### Вывод"
   ]
  },
  {
   "cell_type": "markdown",
   "metadata": {},
   "source": [
    "Дубликаты были удалены, индексация строк сброшена."
   ]
  },
  {
   "cell_type": "markdown",
   "metadata": {},
   "source": [
    "### Лемматизация <a id='6'></a>"
   ]
  },
  {
   "cell_type": "markdown",
   "metadata": {},
   "source": [
    "Лемматизацию выполним для столбца purpose, чтобы определить какие слова использованы для описания получения кредита."
   ]
  },
  {
   "cell_type": "code",
   "execution_count": 13,
   "metadata": {},
   "outputs": [
    {
     "name": "stdout",
     "output_type": "stream",
     "text": [
      "Counter({'свадьба': 791, 'на проведение свадьбы': 768, 'сыграть свадьбу': 765, 'операции с недвижимостью': 675, 'покупка коммерческой недвижимости': 661, 'операции с жильем': 652, 'покупка жилья для сдачи': 651, 'операции с коммерческой недвижимостью': 650, 'покупка жилья': 646, 'жилье': 646, 'покупка жилья для семьи': 638, 'строительство собственной недвижимости': 635, 'недвижимость': 633, 'операции со своей недвижимостью': 627, 'строительство жилой недвижимости': 624, 'покупка недвижимости': 621, 'покупка своего жилья': 620, 'строительство недвижимости': 619, 'ремонт жилью': 607, 'покупка жилой недвижимости': 606, 'на покупку своего автомобиля': 505, 'заняться высшим образованием': 496, 'автомобиль': 494, 'сделка с подержанным автомобилем': 486, 'на покупку подержанного автомобиля': 478, 'автомобили': 478, 'свой автомобиль': 478, 'на покупку автомобиля': 471, 'приобретение автомобиля': 461, 'дополнительное образование': 460, 'сделка с автомобилем': 455, 'высшее образование': 452, 'образование': 447, 'получение дополнительного образования': 446, 'получение образования': 442, 'профильное образование': 436, 'получение высшего образования': 426, 'заняться образованием': 408})\n"
     ]
    }
   ],
   "source": [
    "from pymystem3 import Mystem\n",
    "from collections import Counter\n",
    "m = Mystem()\n",
    "list = df['purpose'].tolist()\n",
    "\n",
    "def listToString(list):\n",
    "    str = ' '\n",
    "    return (str.join(list))\n",
    "\n",
    "text = listToString(list)\n",
    "lemmas = m.lemmatize(text)\n",
    "print(Counter(list))"
   ]
  },
  {
   "cell_type": "markdown",
   "metadata": {},
   "source": [
    "### Вывод"
   ]
  },
  {
   "cell_type": "markdown",
   "metadata": {},
   "source": [
    "Из подсчета встречаемости значений в списке видно, что цели записаны в различных вариациях. Эти данные можно будет использовать для категоризации данных таблицы по целям выдачи кредита."
   ]
  },
  {
   "cell_type": "markdown",
   "metadata": {},
   "source": [
    "### Категоризация данных <a id='7'></a>"
   ]
  },
  {
   "cell_type": "code",
   "execution_count": 14,
   "metadata": {},
   "outputs": [
    {
     "name": "stdout",
     "output_type": "stream",
     "text": [
      "   children  days_employed  dob_years education  education_id  \\\n",
      "0         1          -8437         42    высшее             0   \n",
      "1         1          -4024         36   среднее             1   \n",
      "2         0          -5623         33   среднее             1   \n",
      "3         3          -4124         32   среднее             1   \n",
      "4         0         340266         53   среднее             1   \n",
      "5         0           -926         27    высшее             0   \n",
      "6         0          -2879         43    высшее             0   \n",
      "7         0           -152         50   среднее             1   \n",
      "8         2          -6929         35    высшее             0   \n",
      "9         0          -2188         41   среднее             1   \n",
      "\n",
      "      family_status  family_status_id gender income_type  debt  total_income  \\\n",
      "0   женат / замужем                 0      F   сотрудник     0        253875   \n",
      "1   женат / замужем                 0      F   сотрудник     0        112080   \n",
      "2   женат / замужем                 0      M   сотрудник     0        145885   \n",
      "3   женат / замужем                 0      M   сотрудник     0        267628   \n",
      "4  гражданский брак                 1      F   пенсионер     0        158616   \n",
      "5  гражданский брак                 1      M   компаньон     0        255763   \n",
      "6   женат / замужем                 0      F   компаньон     0        240525   \n",
      "7   женат / замужем                 0      M   сотрудник     0        135823   \n",
      "8  гражданский брак                 1      F   сотрудник     0         95856   \n",
      "9   женат / замужем                 0      M   сотрудник     0        144425   \n",
      "\n",
      "                      purpose purpose_category  \n",
      "0               покупка жилья     недвижимость  \n",
      "1     приобретение автомобиля       автомобиль  \n",
      "2               покупка жилья     недвижимость  \n",
      "3  дополнительное образование      образование  \n",
      "4             сыграть свадьбу          свадьба  \n",
      "5               покупка жилья     недвижимость  \n",
      "6           операции с жильем     недвижимость  \n",
      "7                 образование      образование  \n",
      "8       на проведение свадьбы          свадьба  \n",
      "9     покупка жилья для семьи     недвижимость  \n"
     ]
    }
   ],
   "source": [
    "purpose_list = []\n",
    "\n",
    "for purpose in lemmas:\n",
    "    if purpose == 'свадьба':\n",
    "        purpose_list.append('свадьба')\n",
    "    elif purpose == 'недвижимость' or purpose == 'жилье':\n",
    "        purpose_list.append('недвижимость')\n",
    "    elif purpose == 'автомобиль':\n",
    "        purpose_list.append('автомобиль')\n",
    "    elif purpose == 'образование':\n",
    "        purpose_list.append('образование')\n",
    "\n",
    "df['purpose_category'] = pd.Series(purpose_list)\n",
    "print(df.head(10))"
   ]
  },
  {
   "cell_type": "markdown",
   "metadata": {},
   "source": [
    "Разделим всех заемщиков на 2 категории: группа с детьми и без."
   ]
  },
  {
   "cell_type": "code",
   "execution_count": 15,
   "metadata": {},
   "outputs": [
    {
     "name": "stdout",
     "output_type": "stream",
     "text": [
      "   children  days_employed  dob_years education  education_id  \\\n",
      "0         1          -8437         42    высшее             0   \n",
      "1         1          -4024         36   среднее             1   \n",
      "2         0          -5623         33   среднее             1   \n",
      "3         3          -4124         32   среднее             1   \n",
      "4         0         340266         53   среднее             1   \n",
      "5         0           -926         27    высшее             0   \n",
      "6         0          -2879         43    высшее             0   \n",
      "7         0           -152         50   среднее             1   \n",
      "8         2          -6929         35    высшее             0   \n",
      "9         0          -2188         41   среднее             1   \n",
      "\n",
      "      family_status  family_status_id gender income_type  debt  total_income  \\\n",
      "0   женат / замужем                 0      F   сотрудник     0        253875   \n",
      "1   женат / замужем                 0      F   сотрудник     0        112080   \n",
      "2   женат / замужем                 0      M   сотрудник     0        145885   \n",
      "3   женат / замужем                 0      M   сотрудник     0        267628   \n",
      "4  гражданский брак                 1      F   пенсионер     0        158616   \n",
      "5  гражданский брак                 1      M   компаньон     0        255763   \n",
      "6   женат / замужем                 0      F   компаньон     0        240525   \n",
      "7   женат / замужем                 0      M   сотрудник     0        135823   \n",
      "8  гражданский брак                 1      F   сотрудник     0         95856   \n",
      "9   женат / замужем                 0      M   сотрудник     0        144425   \n",
      "\n",
      "                      purpose purpose_category children_group  \n",
      "0               покупка жилья     недвижимость      есть дети  \n",
      "1     приобретение автомобиля       автомобиль      есть дети  \n",
      "2               покупка жилья     недвижимость      нет детей  \n",
      "3  дополнительное образование      образование      есть дети  \n",
      "4             сыграть свадьбу          свадьба      нет детей  \n",
      "5               покупка жилья     недвижимость      нет детей  \n",
      "6           операции с жильем     недвижимость      нет детей  \n",
      "7                 образование      образование      нет детей  \n",
      "8       на проведение свадьбы          свадьба      есть дети  \n",
      "9     покупка жилья для семьи     недвижимость      нет детей  \n"
     ]
    }
   ],
   "source": [
    "def children_group(children):\n",
    "    if children == 0:\n",
    "        try:\n",
    "            return 'нет детей'\n",
    "        except:\n",
    "            return 'неверно заполненные данные о детях'\n",
    "    if children >= 1:\n",
    "        try:\n",
    "            return 'есть дети'\n",
    "        except:\n",
    "            return 'неверно заполненные данные о детях'\n",
    "\n",
    "df['children_group'] = df['children'].apply(children_group)\n",
    "print(df.head(10))"
   ]
  },
  {
   "cell_type": "markdown",
   "metadata": {},
   "source": [
    "Проверим необходимость категоризации данных по семейному положению."
   ]
  },
  {
   "cell_type": "code",
   "execution_count": 16,
   "metadata": {},
   "outputs": [
    {
     "name": "stdout",
     "output_type": "stream",
     "text": [
      "женат / замужем          12339\n",
      "гражданский брак          4151\n",
      "не женат / не замужем     2810\n",
      "в разводе                 1195\n",
      "вдовец / вдова             959\n",
      "Name: family_status, dtype: int64\n"
     ]
    }
   ],
   "source": [
    "print(df['family_status'].value_counts())"
   ]
  },
  {
   "cell_type": "markdown",
   "metadata": {},
   "source": [
    "Все заемщики разделены на смысловые группы.\n",
    "Проведем категоризацию по уровню дохода. Разделим столбец total_income на 3 категории: низкий доход, средний доход, высокий доход."
   ]
  },
  {
   "cell_type": "code",
   "execution_count": 17,
   "metadata": {},
   "outputs": [
    {
     "name": "stdout",
     "output_type": "stream",
     "text": [
      "высокий доход    19178\n",
      "средний доход     2254\n",
      "низкий доход        22\n",
      "Name: income_level, dtype: int64\n"
     ]
    }
   ],
   "source": [
    "def income_level(income):\n",
    "    if income <= 30000:\n",
    "        return 'низкий доход'\n",
    "    if 30000 < income <= 80000:\n",
    "        return 'средний доход'\n",
    "    if income > 80000:\n",
    "        return 'высокий доход'\n",
    "\n",
    "df['income_level'] = df['total_income'].apply(income_level)\n",
    "print(df['income_level'].value_counts())"
   ]
  },
  {
   "cell_type": "markdown",
   "metadata": {},
   "source": [
    "Способ распределения по доходу не лучший, большинство заемщиков на уровне высокого дохода. Чтобы распределить группы посчитаем среднее значение."
   ]
  },
  {
   "cell_type": "code",
   "execution_count": 18,
   "metadata": {},
   "outputs": [
    {
     "name": "stdout",
     "output_type": "stream",
     "text": [
      "165319.57229421087\n"
     ]
    }
   ],
   "source": [
    "print(df['total_income'].mean())"
   ]
  },
  {
   "cell_type": "code",
   "execution_count": 19,
   "metadata": {},
   "outputs": [
    {
     "name": "stdout",
     "output_type": "stream",
     "text": [
      "115441.0\n",
      "212990.5\n",
      "79505.0\n",
      "257994.0\n"
     ]
    }
   ],
   "source": [
    "print(df[df['total_income'] < 160000]['total_income'].median())\n",
    "print(df[df['total_income'] > 160000]['total_income'].median())\n",
    "print(df[df['total_income'] < 100000]['total_income'].median())\n",
    "print(df[df['total_income'] > 200000]['total_income'].median())"
   ]
  },
  {
   "cell_type": "code",
   "execution_count": 20,
   "metadata": {},
   "outputs": [
    {
     "name": "stdout",
     "output_type": "stream",
     "text": [
      "средний доход    14178\n",
      "низкий доход      4463\n",
      "высокий доход     2813\n",
      "Name: income_level, dtype: int64\n"
     ]
    }
   ],
   "source": [
    "def income_level(income):\n",
    "    if income <= 100000:\n",
    "        return 'низкий доход'\n",
    "    if 100000 < income <= 250000:\n",
    "        return 'средний доход'\n",
    "    if income > 250000:\n",
    "        return 'высокий доход'\n",
    "\n",
    "df['income_level'] = df['total_income'].apply(income_level)\n",
    "print(df['income_level'].value_counts())"
   ]
  },
  {
   "cell_type": "markdown",
   "metadata": {},
   "source": [
    "### Вывод"
   ]
  },
  {
   "cell_type": "markdown",
   "metadata": {},
   "source": [
    "Таблицы прошли категоризацию по нескольким признакам: наличие или отсутствие детей, семейное положение, уровень дохода, цель получения кредита."
   ]
  },
  {
   "cell_type": "markdown",
   "metadata": {},
   "source": [
    "### Шаг 3. Ответьте на вопросы <a id='8'></a>"
   ]
  },
  {
   "cell_type": "markdown",
   "metadata": {},
   "source": [
    "- Есть ли зависимость между наличием детей и возвратом кредита в срок?"
   ]
  },
  {
   "cell_type": "markdown",
   "metadata": {},
   "source": [
    "Посчитаем количество неоплаченных кредитов в срок, сгруппировав заемщиков по наличию детей."
   ]
  },
  {
   "cell_type": "code",
   "execution_count": 21,
   "metadata": {},
   "outputs": [
    {
     "name": "stdout",
     "output_type": "stream",
     "text": [
      "children_group\n",
      "есть дети     677\n",
      "нет детей    1063\n",
      "Name: debt, dtype: int64\n"
     ]
    }
   ],
   "source": [
    "print(df.groupby('children_group')['debt'].sum())"
   ]
  },
  {
   "cell_type": "markdown",
   "metadata": {},
   "source": [
    "Посчитаем общее количесто заемщиков у которых нет детей и у которых есть дети."
   ]
  },
  {
   "cell_type": "code",
   "execution_count": 22,
   "metadata": {},
   "outputs": [
    {
     "data": {
      "text/plain": [
       "нет детей    14091\n",
       "есть дети     7316\n",
       "Name: children_group, dtype: int64"
      ]
     },
     "execution_count": 22,
     "metadata": {},
     "output_type": "execute_result"
    }
   ],
   "source": [
    "df['children_group'].value_counts()"
   ]
  },
  {
   "cell_type": "markdown",
   "metadata": {},
   "source": [
    "Подготовим списки для подсчета процентов неоплаченных кредитов в срок у двух групп заемщиков. Создаlим датафрейм, в который добавим столбец для расчета процента неоплаченных кредитов в срок."
   ]
  },
  {
   "cell_type": "code",
   "execution_count": 23,
   "metadata": {},
   "outputs": [
    {
     "name": "stdout",
     "output_type": "stream",
     "text": [
      "   group  debt  percent_debt\n",
      "0  14091  1063      7.543822\n",
      "1   7316   677      9.253691\n"
     ]
    }
   ],
   "source": [
    "children_group = df['children_group'].value_counts().tolist()\n",
    "children_debt = df.groupby('children_group')['debt'].sum().sort_values(ascending=False).tolist()\n",
    "final_list = [[children_group[0], children_debt[0]], [children_group[1], children_debt[1]]]\n",
    "#print(final_list)\n",
    "columns_children = ['group', 'debt']\n",
    "children_debt = pd.DataFrame(data = final_list, columns = columns_children)\n",
    "#print(children_debt)\n",
    "children_debt['percent_debt'] = children_debt['debt'] / children_debt['group'] * 100\n",
    "print(children_debt)"
   ]
  },
  {
   "cell_type": "code",
   "execution_count": 24,
   "metadata": {},
   "outputs": [
    {
     "name": "stdout",
     "output_type": "stream",
     "text": [
      "                group  debt   percent\n",
      "children_group                       \n",
      "есть дети        7316   677  9.253691\n",
      "нет детей       14091  1063  7.543822\n"
     ]
    }
   ],
   "source": [
    "children_d = df.groupby('children_group')['debt'].agg(group = 'count',  debt = 'sum')\n",
    "children_d['percent'] = children_d['debt'] / children_d['group'] * 100\n",
    "print(children_d)"
   ]
  },
  {
   "cell_type": "markdown",
   "metadata": {},
   "source": [
    "### Вывод"
   ]
  },
  {
   "cell_type": "markdown",
   "metadata": {},
   "source": [
    "У заемщиков у которых дети есть, результат хуже - 9.25%, чем у тех у кого нет детей - 7,54%. Зависимость есть"
   ]
  },
  {
   "cell_type": "markdown",
   "metadata": {},
   "source": [
    "- Есть ли зависимость между семейным положением и возвратом кредита в срок?"
   ]
  },
  {
   "cell_type": "markdown",
   "metadata": {},
   "source": [
    "Посчитаем количество неоплаченных кредитов в срок, сгруппировав заемщиков по семейному статусу и отсортируем данные для наглядности."
   ]
  },
  {
   "cell_type": "code",
   "execution_count": 25,
   "metadata": {},
   "outputs": [
    {
     "name": "stdout",
     "output_type": "stream",
     "text": [
      "family_status\n",
      "женат / замужем          931\n",
      "гражданский брак         388\n",
      "не женат / не замужем    274\n",
      "в разводе                 85\n",
      "вдовец / вдова            63\n",
      "Name: debt, dtype: int64\n"
     ]
    }
   ],
   "source": [
    "print(df.groupby('family_status')['debt'].sum().sort_values(ascending = False))"
   ]
  },
  {
   "cell_type": "markdown",
   "metadata": {},
   "source": [
    "Посчитаем общее количесто заемщиков из данных категорий."
   ]
  },
  {
   "cell_type": "code",
   "execution_count": 26,
   "metadata": {},
   "outputs": [
    {
     "data": {
      "text/plain": [
       "женат / замужем          12339\n",
       "гражданский брак          4151\n",
       "не женат / не замужем     2810\n",
       "в разводе                 1195\n",
       "вдовец / вдова             959\n",
       "Name: family_status, dtype: int64"
      ]
     },
     "execution_count": 26,
     "metadata": {},
     "output_type": "execute_result"
    }
   ],
   "source": [
    "df['family_status'].value_counts()"
   ]
  },
  {
   "cell_type": "markdown",
   "metadata": {},
   "source": [
    "Подготовим списки для подсчета процентов неоплаченных кредитов в срок у двух групп заемщиков. Создаlим датафрейм, в который добавим столбец для расчета процента неоплаченных кредитов в срок."
   ]
  },
  {
   "cell_type": "code",
   "execution_count": 27,
   "metadata": {},
   "outputs": [
    {
     "name": "stdout",
     "output_type": "stream",
     "text": [
      "   status_count  status_debt   percent\n",
      "0         12339          931  7.545182\n",
      "1          4151          388  9.347145\n",
      "2          2810          274  9.750890\n",
      "3          1195           85  7.112971\n",
      "4           959           63  6.569343\n"
     ]
    }
   ],
   "source": [
    "family_status = df['family_status'].value_counts().tolist()\n",
    "family_debt = df.groupby('family_status')['debt'].sum().sort_values(ascending=False).tolist()\n",
    "\n",
    "second_final = []\n",
    "for i in range(len(family_status)):\n",
    "    second_final.append([family_status[i], family_debt[i], family_debt[i] / family_status[i] *100])\n",
    "#print(second_final)\n",
    "\n",
    "columns_family = ['status_count', 'status_debt', 'percent']\n",
    "family_debt = pd.DataFrame(data = second_final, columns = columns_family)\n",
    "print(family_debt)"
   ]
  },
  {
   "cell_type": "code",
   "execution_count": 28,
   "metadata": {},
   "outputs": [
    {
     "name": "stdout",
     "output_type": "stream",
     "text": [
      "                       status_count  status_debt   percent\n",
      "family_status                                             \n",
      "в разводе                      1195           85  7.112971\n",
      "вдовец / вдова                  959           63  6.569343\n",
      "гражданский брак               4151          388  9.347145\n",
      "женат / замужем               12339          931  7.545182\n",
      "не женат / не замужем          2810          274  9.750890\n"
     ]
    }
   ],
   "source": [
    "family_d = df.groupby('family_status')['debt'].agg(status_count = 'count', status_debt = 'sum')\n",
    "family_d['percent'] = family_d['status_debt'] / family_d['status_count'] * 100\n",
    "print(family_d)"
   ]
  },
  {
   "cell_type": "markdown",
   "metadata": {},
   "source": [
    "### Вывод"
   ]
  },
  {
   "cell_type": "markdown",
   "metadata": {},
   "source": [
    "Наибольший процент неоплаченных кредитов отмечается у двух групп: у тех, кто не женат/не замужем (9,75%) и у тех, кто состоит в гражданском браке (9,35%). Зависимость есть."
   ]
  },
  {
   "cell_type": "markdown",
   "metadata": {},
   "source": [
    "- Есть ли зависимость между уровнем дохода и возвратом кредита в срок?"
   ]
  },
  {
   "cell_type": "code",
   "execution_count": 29,
   "metadata": {},
   "outputs": [
    {
     "name": "stdout",
     "output_type": "stream",
     "text": [
      "income_level\n",
      "средний доход    1193\n",
      "низкий доход      354\n",
      "высокий доход     194\n",
      "Name: debt, dtype: int64\n"
     ]
    },
    {
     "data": {
      "text/plain": [
       "средний доход    14178\n",
       "низкий доход      4463\n",
       "высокий доход     2813\n",
       "Name: income_level, dtype: int64"
      ]
     },
     "execution_count": 29,
     "metadata": {},
     "output_type": "execute_result"
    }
   ],
   "source": [
    "print(df.groupby('income_level')['debt'].sum().sort_values(ascending=False))\n",
    "df['income_level'].value_counts()"
   ]
  },
  {
   "cell_type": "code",
   "execution_count": 30,
   "metadata": {},
   "outputs": [
    {
     "name": "stdout",
     "output_type": "stream",
     "text": [
      "   income_level_count  debt_count   percent\n",
      "0               14178        1193  8.414445\n",
      "1                4463         354  7.931884\n",
      "2                2813         194  6.896552\n"
     ]
    }
   ],
   "source": [
    "income_level = df['income_level'].value_counts().tolist()\n",
    "income_debt = df.groupby('income_level')['debt'].sum().sort_values(ascending=False).tolist()\n",
    "\n",
    "third_final = []\n",
    "for i in range(len(income_level)):\n",
    "    third_final.append([income_level[i], income_debt[i], income_debt[i] / income_level[i] *100])\n",
    "    \n",
    "columns_income = ['income_level_count', 'debt_count', 'percent']\n",
    "income_debt = pd.DataFrame(data = third_final, columns = columns_income)\n",
    "print(income_debt)"
   ]
  },
  {
   "cell_type": "code",
   "execution_count": 31,
   "metadata": {},
   "outputs": [
    {
     "name": "stdout",
     "output_type": "stream",
     "text": [
      "               income_level_count  debt_count   percent\n",
      "income_level                                           \n",
      "высокий доход                2813         194  6.896552\n",
      "низкий доход                 4463         354  7.931884\n",
      "средний доход               14178        1193  8.414445\n"
     ]
    }
   ],
   "source": [
    "incom_d = df.groupby('income_level')['debt'].agg(income_level_count = 'count', debt_count = 'sum')\n",
    "incom_d['percent'] = incom_d['debt_count'] / incom_d['income_level_count'] * 100\n",
    "print(incom_d)"
   ]
  },
  {
   "cell_type": "markdown",
   "metadata": {},
   "source": [
    "### Вывод"
   ]
  },
  {
   "cell_type": "markdown",
   "metadata": {},
   "source": [
    "Зависимость есть. Наибольшая для непогашенных в срок кредитов у заемщиков со средним доходом - 8.41%, наименьшая у заемщиков с высоким доходом - 6.9%."
   ]
  },
  {
   "cell_type": "markdown",
   "metadata": {},
   "source": [
    "- Как разные цели кредита влияют на его возврат в срок?"
   ]
  },
  {
   "cell_type": "code",
   "execution_count": 32,
   "metadata": {},
   "outputs": [
    {
     "name": "stdout",
     "output_type": "stream",
     "text": [
      "purpose_category\n",
      "недвижимость    782\n",
      "автомобиль      403\n",
      "образование     370\n",
      "свадьба         186\n",
      "Name: debt, dtype: int64\n"
     ]
    },
    {
     "data": {
      "text/plain": [
       "недвижимость    10811\n",
       "автомобиль       4306\n",
       "образование      4013\n",
       "свадьба          2324\n",
       "Name: purpose_category, dtype: int64"
      ]
     },
     "execution_count": 32,
     "metadata": {},
     "output_type": "execute_result"
    }
   ],
   "source": [
    "print(df.groupby('purpose_category')['debt'].sum().sort_values(ascending=False))\n",
    "df['purpose_category'].value_counts()"
   ]
  },
  {
   "cell_type": "code",
   "execution_count": 33,
   "metadata": {},
   "outputs": [
    {
     "name": "stdout",
     "output_type": "stream",
     "text": [
      "              purpose_count  debt_count   percent\n",
      "недвижимость          10811         782  7.233373\n",
      "автомобиль             4306         403  9.359034\n",
      "образование            4013         370  9.220035\n",
      "свадьба                2324         186  8.003442\n"
     ]
    }
   ],
   "source": [
    "purpose_list = df['purpose_category'].value_counts().tolist()\n",
    "purpose_debt = df.groupby('purpose_category')['debt'].sum().sort_values(ascending=False).tolist()\n",
    "category_list = df['purpose_category'].drop_duplicates().reset_index(drop = True).to_dict()\n",
    "\n",
    "fourth_final = []\n",
    "for i in range(len(purpose_list)):\n",
    "    fourth_final.append([purpose_list[i], purpose_debt[i], purpose_debt[i] / purpose_list[i] *100])\n",
    "\n",
    "    \n",
    "columns_purpose = ['purpose_count', 'debt_count', 'percent']\n",
    "purpose_debt = pd.DataFrame(data = fourth_final, columns = columns_purpose)\n",
    "#purpose_debt.index = ['недвижимость', 'автомобиль', 'образование', 'свадьба']\n",
    "purpose_debt = purpose_debt.rename(index = category_list)\n",
    "print(purpose_debt)"
   ]
  },
  {
   "cell_type": "code",
   "execution_count": 34,
   "metadata": {},
   "outputs": [
    {
     "name": "stdout",
     "output_type": "stream",
     "text": [
      "                  purpose_count  debt_count   percent\n",
      "purpose_category                                     \n",
      "автомобиль                 4306         403  9.359034\n",
      "недвижимость              10811         782  7.233373\n",
      "образование                4013         370  9.220035\n",
      "свадьба                    2324         186  8.003442\n"
     ]
    }
   ],
   "source": [
    "purpose_d = df.groupby('purpose_category')['debt'].agg(purpose_count = 'count', debt_count = 'sum')\n",
    "purpose_d['percent'] = purpose_d['debt_count'] / purpose_d['purpose_count'] * 100\n",
    "print(purpose_d)"
   ]
  },
  {
   "cell_type": "code",
   "execution_count": 35,
   "metadata": {},
   "outputs": [
    {
     "data": {
      "text/html": [
       "<div>\n",
       "<style scoped>\n",
       "    .dataframe tbody tr th:only-of-type {\n",
       "        vertical-align: middle;\n",
       "    }\n",
       "\n",
       "    .dataframe tbody tr th {\n",
       "        vertical-align: top;\n",
       "    }\n",
       "\n",
       "    .dataframe thead th {\n",
       "        text-align: right;\n",
       "    }\n",
       "</style>\n",
       "<table border=\"1\" class=\"dataframe\">\n",
       "  <thead>\n",
       "    <tr style=\"text-align: right;\">\n",
       "      <th></th>\n",
       "      <th>purpose_count</th>\n",
       "      <th>debt_count</th>\n",
       "      <th>percent</th>\n",
       "    </tr>\n",
       "    <tr>\n",
       "      <th>purpose_category</th>\n",
       "      <th></th>\n",
       "      <th></th>\n",
       "      <th></th>\n",
       "    </tr>\n",
       "  </thead>\n",
       "  <tbody>\n",
       "    <tr>\n",
       "      <td>автомобиль</td>\n",
       "      <td>4306</td>\n",
       "      <td>403</td>\n",
       "      <td>9.359034</td>\n",
       "    </tr>\n",
       "    <tr>\n",
       "      <td>недвижимость</td>\n",
       "      <td>10811</td>\n",
       "      <td>782</td>\n",
       "      <td>7.233373</td>\n",
       "    </tr>\n",
       "    <tr>\n",
       "      <td>образование</td>\n",
       "      <td>4013</td>\n",
       "      <td>370</td>\n",
       "      <td>9.220035</td>\n",
       "    </tr>\n",
       "    <tr>\n",
       "      <td>свадьба</td>\n",
       "      <td>2324</td>\n",
       "      <td>186</td>\n",
       "      <td>8.003442</td>\n",
       "    </tr>\n",
       "  </tbody>\n",
       "</table>\n",
       "</div>"
      ],
      "text/plain": [
       "                  purpose_count  debt_count   percent\n",
       "purpose_category                                     \n",
       "автомобиль                 4306         403  9.359034\n",
       "недвижимость              10811         782  7.233373\n",
       "образование                4013         370  9.220035\n",
       "свадьба                    2324         186  8.003442"
      ]
     },
     "metadata": {},
     "output_type": "display_data"
    }
   ],
   "source": [
    "tot = df.pivot_table(index = 'purpose_category', values = 'debt', aggfunc = ({'sum' , 'count'}))\n",
    "#print(tot.head(10))\n",
    "tot['percent'] = tot['sum'] / tot['count'] * 100\n",
    "tot.rename(columns = {'count': 'purpose_count', 'sum': 'debt_count'}, inplace=True)\n",
    "display(tot)"
   ]
  },
  {
   "cell_type": "markdown",
   "metadata": {},
   "source": [
    "### Вывод"
   ]
  },
  {
   "cell_type": "markdown",
   "metadata": {},
   "source": [
    "Наибольшая доля непогашенных кредитов приходится на категорию автомобиля - 9.36% и на образование - 9.22%. Наименьший на жилье - 7.23%."
   ]
  },
  {
   "cell_type": "code",
   "execution_count": 36,
   "metadata": {},
   "outputs": [
    {
     "data": {
      "text/html": [
       "<div>\n",
       "<style scoped>\n",
       "    .dataframe tbody tr th:only-of-type {\n",
       "        vertical-align: middle;\n",
       "    }\n",
       "\n",
       "    .dataframe tbody tr th {\n",
       "        vertical-align: top;\n",
       "    }\n",
       "\n",
       "    .dataframe thead th {\n",
       "        text-align: right;\n",
       "    }\n",
       "</style>\n",
       "<table border=\"1\" class=\"dataframe\">\n",
       "  <thead>\n",
       "    <tr style=\"text-align: right;\">\n",
       "      <th>income_type</th>\n",
       "      <th>безработный</th>\n",
       "      <th>в декрете</th>\n",
       "      <th>госслужащий</th>\n",
       "      <th>компаньон</th>\n",
       "      <th>пенсионер</th>\n",
       "      <th>предприниматель</th>\n",
       "      <th>сотрудник</th>\n",
       "      <th>студент</th>\n",
       "    </tr>\n",
       "    <tr>\n",
       "      <th>education</th>\n",
       "      <th></th>\n",
       "      <th></th>\n",
       "      <th></th>\n",
       "      <th></th>\n",
       "      <th></th>\n",
       "      <th></th>\n",
       "      <th></th>\n",
       "      <th></th>\n",
       "    </tr>\n",
       "  </thead>\n",
       "  <tbody>\n",
       "    <tr>\n",
       "      <td>высшее</td>\n",
       "      <td>202722.0</td>\n",
       "      <td>0.0</td>\n",
       "      <td>158384.5</td>\n",
       "      <td>191266.5</td>\n",
       "      <td>137165.0</td>\n",
       "      <td>499163.0</td>\n",
       "      <td>155135.0</td>\n",
       "      <td>98201.0</td>\n",
       "    </tr>\n",
       "    <tr>\n",
       "      <td>начальное</td>\n",
       "      <td>0.0</td>\n",
       "      <td>0.0</td>\n",
       "      <td>150447.0</td>\n",
       "      <td>150100.5</td>\n",
       "      <td>107398.0</td>\n",
       "      <td>0.0</td>\n",
       "      <td>131629.0</td>\n",
       "      <td>0.0</td>\n",
       "    </tr>\n",
       "    <tr>\n",
       "      <td>неоконченное высшее</td>\n",
       "      <td>0.0</td>\n",
       "      <td>0.0</td>\n",
       "      <td>156266.5</td>\n",
       "      <td>172357.0</td>\n",
       "      <td>118514.0</td>\n",
       "      <td>0.0</td>\n",
       "      <td>144499.0</td>\n",
       "      <td>0.0</td>\n",
       "    </tr>\n",
       "    <tr>\n",
       "      <td>среднее</td>\n",
       "      <td>59956.0</td>\n",
       "      <td>53829.0</td>\n",
       "      <td>144350.5</td>\n",
       "      <td>167630.0</td>\n",
       "      <td>118514.0</td>\n",
       "      <td>0.0</td>\n",
       "      <td>142594.0</td>\n",
       "      <td>0.0</td>\n",
       "    </tr>\n",
       "    <tr>\n",
       "      <td>ученая степень</td>\n",
       "      <td>0.0</td>\n",
       "      <td>0.0</td>\n",
       "      <td>111392.0</td>\n",
       "      <td>0.0</td>\n",
       "      <td>177088.5</td>\n",
       "      <td>0.0</td>\n",
       "      <td>198570.0</td>\n",
       "      <td>0.0</td>\n",
       "    </tr>\n",
       "  </tbody>\n",
       "</table>\n",
       "</div>"
      ],
      "text/plain": [
       "income_type          безработный  в декрете  госслужащий  компаньон  \\\n",
       "education                                                             \n",
       "высшее                  202722.0        0.0     158384.5   191266.5   \n",
       "начальное                    0.0        0.0     150447.0   150100.5   \n",
       "неоконченное высшее          0.0        0.0     156266.5   172357.0   \n",
       "среднее                  59956.0    53829.0     144350.5   167630.0   \n",
       "ученая степень               0.0        0.0     111392.0        0.0   \n",
       "\n",
       "income_type          пенсионер  предприниматель  сотрудник  студент  \n",
       "education                                                            \n",
       "высшее                137165.0         499163.0   155135.0  98201.0  \n",
       "начальное             107398.0              0.0   131629.0      0.0  \n",
       "неоконченное высшее   118514.0              0.0   144499.0      0.0  \n",
       "среднее               118514.0              0.0   142594.0      0.0  \n",
       "ученая степень        177088.5              0.0   198570.0      0.0  "
      ]
     },
     "execution_count": 36,
     "metadata": {},
     "output_type": "execute_result"
    }
   ],
   "source": [
    "# код ревьювера\n",
    "# таблица зависимости медианного заработка от образования и вида деятельности\n",
    "df.pivot_table(index = 'education', columns ='income_type', values = 'total_income', aggfunc = 'median').fillna(0)"
   ]
  },
  {
   "cell_type": "markdown",
   "metadata": {},
   "source": [
    "### Шаг 4. Общий вывод <a id='9'></a>"
   ]
  },
  {
   "cell_type": "markdown",
   "metadata": {},
   "source": [
    "Произведена обработка данных для дальнейшего анализа: убраны пропуски, удалены дубликаты, изменен тип данных с вещественного на целочисленный, лемматизация и категоризация данных."
   ]
  }
 ],
 "metadata": {
  "kernelspec": {
   "display_name": "Python 3",
   "language": "python",
   "name": "python3"
  },
  "language_info": {
   "codemirror_mode": {
    "name": "ipython",
    "version": 3
   },
   "file_extension": ".py",
   "mimetype": "text/x-python",
   "name": "python",
   "nbconvert_exporter": "python",
   "pygments_lexer": "ipython3",
   "version": "3.8.8"
  },
  "toc": {
   "base_numbering": 1,
   "nav_menu": {},
   "number_sections": true,
   "sideBar": true,
   "skip_h1_title": true,
   "title_cell": "Table of Contents",
   "title_sidebar": "Contents",
   "toc_cell": false,
   "toc_position": {},
   "toc_section_display": true,
   "toc_window_display": false
  }
 },
 "nbformat": 4,
 "nbformat_minor": 2
}
