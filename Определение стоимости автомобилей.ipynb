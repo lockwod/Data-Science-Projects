{
 "cells": [
  {
   "cell_type": "markdown",
   "metadata": {},
   "source": [
    "Привет, меня зовут Артем Хуршудов. Сегодня я проверю твой проект.\n",
    "<br> Дальнейшее общение будет происходить на \"ты\" если это не вызывает никаких проблем.\n",
    "<br> Желательно реагировать на каждый мой комментарий ('исправил', 'не понятно как исправить ошибку', ...)\n",
    "<br> Пожалуйста, не удаляй комментарии ревьюера, так как они повышают качество повторного ревью.\n",
    "\n",
    "Комментарии будут в <font color='green'>зеленой</font>, <font color='blue'>синей</font> или <font color='red'>красной</font> рамках:\n",
    "\n",
    "<div class=\"alert alert-block alert-success\">\n",
    "<b>Успех:</b> Если все сделано отлично\n",
    "</div>\n",
    "\n",
    "<div class=\"alert alert-block alert-info\">\n",
    "<b>Совет: </b> Если можно немного улучшить\n",
    "</div>\n",
    "\n",
    "<div class=\"alert alert-block alert-danger\">\n",
    "<b>Ошибка:</b> Если требуются исправления. Работа не может быть принята с красными комментариями.\n",
    "</div>\n",
    "\n",
    "-------------------\n",
    "\n",
    "Будет очень хорошо, если ты будешь помечать свои действия следующим образом:\n",
    "<div class=\"alert alert-block alert-warning\">\n",
    "<b>Комментарий студента:</b> ...\n",
    "</div>\n",
    "\n",
    "<div class=\"alert alert-block alert-warning\">\n",
    "<b>Изменения:</b> Были внесены следующие изменения ...\n",
    "</div>\n",
    "\n",
    "### <font color='orange'>Общее впечатление</font>\n",
    "* Большое спасибо за проделанную работу. Видно, что приложено много усилий.\n",
    "* Радует, что ноутбук хорошо структурирован. Приятно проверять такие работы.\n",
    "* Отлично, что тебе удалось освоить внутренние методы кодировки признаков для некоторых моделей.\n",
    "* Я оставил несколько советов, надеюсь, что они будут учтены в будущих проектах.\n",
    "* Тебе удалось добиться очень хорошего качества, поздравляю!\n",
    "* Данный проект зачтен. Удачи в дальнейшем обучении!"
   ]
  },
  {
   "cell_type": "markdown",
   "metadata": {},
   "source": [
    "Сервис по продаже автомобилей с пробегом «Не бит, не крашен» разрабатывает приложение для привлечения новых клиентов. В нём можно быстро узнать рыночную стоимость своего автомобиля. В вашем распоряжении исторические данные: технические характеристики, комплектации и цены автомобилей. Вам нужно построить модель для определения стоимости. \n",
    "\n",
    "Заказчику важны:\n",
    "\n",
    "- качество предсказания;\n",
    "- скорость предсказания;\n",
    "- время обучения."
   ]
  },
  {
   "cell_type": "markdown",
   "metadata": {},
   "source": [
    "# 1. Подготовка данных"
   ]
  },
  {
   "cell_type": "code",
   "execution_count": 1,
   "metadata": {},
   "outputs": [],
   "source": [
    "import warnings\n",
    "warnings.filterwarnings('ignore')"
   ]
  },
  {
   "cell_type": "code",
   "execution_count": 2,
   "metadata": {},
   "outputs": [],
   "source": [
    "import pandas as pd\n",
    "import numpy as np\n",
    "\n",
    "import matplotlib.pyplot as plt\n",
    "import seaborn as sns\n",
    "\n",
    "from sklearn.model_selection import train_test_split\n",
    "from sklearn.metrics import mean_squared_error\n",
    "from catboost import CatBoostRegressor\n",
    "from lightgbm import LGBMRegressor"
   ]
  },
  {
   "cell_type": "markdown",
   "metadata": {},
   "source": [
    "<div class=\"alert alert-block alert-success\">\n",
    "<b>Успех:</b> Отлично, что все импорты собраны в верхней части ноутбука! Если у того, кто будет запускать твой ноутбук будут отсутствовать некоторые библиотеки, то он это увидит сразу, а не в процессе!\n",
    "</div>"
   ]
  },
  {
   "cell_type": "code",
   "execution_count": 3,
   "metadata": {},
   "outputs": [
    {
     "name": "stdout",
     "output_type": "stream",
     "text": [
      "<class 'pandas.core.frame.DataFrame'>\n",
      "RangeIndex: 354369 entries, 0 to 354368\n",
      "Data columns (total 16 columns):\n",
      "DateCrawled          354369 non-null object\n",
      "Price                354369 non-null int64\n",
      "VehicleType          316879 non-null object\n",
      "RegistrationYear     354369 non-null int64\n",
      "Gearbox              334536 non-null object\n",
      "Power                354369 non-null int64\n",
      "Model                334664 non-null object\n",
      "Kilometer            354369 non-null int64\n",
      "RegistrationMonth    354369 non-null int64\n",
      "FuelType             321474 non-null object\n",
      "Brand                354369 non-null object\n",
      "NotRepaired          283215 non-null object\n",
      "DateCreated          354369 non-null object\n",
      "NumberOfPictures     354369 non-null int64\n",
      "PostalCode           354369 non-null int64\n",
      "LastSeen             354369 non-null object\n",
      "dtypes: int64(7), object(9)\n",
      "memory usage: 43.3+ MB\n",
      "None\n"
     ]
    }
   ],
   "source": [
    "data = pd.read_csv('/datasets/autos.csv')\n",
    "print(data.info())"
   ]
  },
  {
   "cell_type": "markdown",
   "metadata": {},
   "source": [
    "В данных есть пропусть, проверю столбцы на тип и возможность заполнения пропусков."
   ]
  },
  {
   "cell_type": "markdown",
   "metadata": {},
   "source": [
    "<div class=\"alert alert-block alert-success\">\n",
    "<b>Успех:</b> Данные загружены корректно.\n",
    "</div>"
   ]
  },
  {
   "cell_type": "markdown",
   "metadata": {},
   "source": [
    "Признаки DateCrawled, DateCreated, LastSeen"
   ]
  },
  {
   "cell_type": "code",
   "execution_count": 4,
   "metadata": {},
   "outputs": [
    {
     "name": "stdout",
     "output_type": "stream",
     "text": [
      "2016-03-24 11:52:17\n",
      "2016-03-24 00:00:00\n",
      "2016-04-07 03:16:57\n"
     ]
    }
   ],
   "source": [
    "print(data['DateCrawled'][0])\n",
    "print(data['DateCreated'][0])\n",
    "print(data['LastSeen'][0])"
   ]
  },
  {
   "cell_type": "markdown",
   "metadata": {},
   "source": [
    "<div class=\"alert alert-block alert-info\">\n",
    "<b>Совет: </b> Лучше было бы посомтреть на все данные, то есть воспользоваться методом \"head\".\n",
    "</div>"
   ]
  },
  {
   "cell_type": "code",
   "execution_count": 5,
   "metadata": {},
   "outputs": [],
   "source": [
    "# Приведу столбцы к типу дата\n",
    "data['DateCrawled'] = pd.to_datetime(data['DateCrawled'], format='%Y-%m-%d %H:%M:%S')\n",
    "data['DateCreated'] = pd.to_datetime(data['DateCreated'], format='%Y-%m-%d %H:%M:%S')\n",
    "data['LastSeen'] = pd.to_datetime(data['LastSeen'], format='%Y-%m-%d %H:%M:%S')"
   ]
  },
  {
   "cell_type": "code",
   "execution_count": 6,
   "metadata": {},
   "outputs": [],
   "source": [
    "def get_feature_by_brand_model(data, feature):\n",
    "    \n",
    "    isnull_before = data[feature].isnull().sum()\n",
    "    \n",
    "    #строки без пропусков во всех 3-х колонках\n",
    "    data_filled = data.query('Brand.notnull().values and Model.notnull().values and ' + feature + '.notnull().values')\n",
    "\n",
    "    columns = ['Brand', 'Model', feature]\n",
    "    data_filled = data_filled.loc[:, columns].drop_duplicates(columns).reset_index(drop=True)\n",
    "\n",
    "    data_filled['count'] = 1\n",
    "    data_filled = data_filled.groupby(['Brand', 'Model']).agg({feature: 'max', 'count': 'count'}).reset_index()\n",
    "    data_filled.columns = ['Brand', 'Model', feature, 'count']\n",
    "\n",
    "    data_filled = data_filled.query('count == 1').reset_index(drop=True)\n",
    "    data_filled = data_filled.drop('count', axis=1)\n",
    "    \n",
    "    #data c data_filled\n",
    "    data = data.merge(data_filled, on=['Brand', 'Model'], how='left', suffixes=('', '_filled'))\n",
    "\n",
    "    #пропуски в колонке feature данными из колонки <feature>_filled\n",
    "    data.loc[data[feature].isnull(), feature] = data[feature + '_filled']\n",
    "    data = data.drop(feature + '_filled', axis=1)\n",
    "    \n",
    "    isnull_after = data[feature].isnull().sum()\n",
    "    print(f'{feature}: удалось заполнить пропуски в {isnull_before - isnull_after} строках')\n",
    "    \n",
    "    return data"
   ]
  },
  {
   "cell_type": "code",
   "execution_count": 7,
   "metadata": {},
   "outputs": [
    {
     "name": "stdout",
     "output_type": "stream",
     "text": [
      "VehicleType: удалось заполнить пропуски в 67 строках\n",
      "[nan 'coupe' 'suv' 'small' 'sedan' 'convertible' 'bus' 'wagon' 'other']\n"
     ]
    }
   ],
   "source": [
    "# VehicleType\n",
    "data = get_feature_by_brand_model(data, 'VehicleType')\n",
    "print(data['VehicleType'].unique())"
   ]
  },
  {
   "cell_type": "code",
   "execution_count": 8,
   "metadata": {},
   "outputs": [
    {
     "name": "stdout",
     "output_type": "stream",
     "text": [
      "Gearbox: удалось заполнить пропуски в 143 строках\n",
      "['manual' 'auto' nan]\n"
     ]
    }
   ],
   "source": [
    "# Gearbox\n",
    "data = get_feature_by_brand_model(data, 'Gearbox')\n",
    "print(data['Gearbox'].unique())"
   ]
  },
  {
   "cell_type": "code",
   "execution_count": 9,
   "metadata": {},
   "outputs": [
    {
     "name": "stdout",
     "output_type": "stream",
     "text": [
      "FuelType: удалось заполнить пропуски в 158 строках\n",
      "['petrol' 'gasoline' nan 'lpg' 'other' 'hybrid' 'cng' 'electric']\n"
     ]
    }
   ],
   "source": [
    "# FuelType\n",
    "data = get_feature_by_brand_model(data, 'FuelType')\n",
    "print(data['FuelType'].unique())"
   ]
  },
  {
   "cell_type": "markdown",
   "metadata": {},
   "source": [
    "<div class=\"alert alert-block alert-success\">\n",
    "<b>Успех:</b> Отличный способ заполнить пропуски.\n",
    "</div>"
   ]
  },
  {
   "cell_type": "code",
   "execution_count": 10,
   "metadata": {},
   "outputs": [
    {
     "name": "stdout",
     "output_type": "stream",
     "text": [
      "1000    37\n",
      "1001     1\n",
      "1039     1\n",
      "1111     3\n",
      "1200     1\n",
      "        ..\n",
      "9000     3\n",
      "9229     1\n",
      "9450     1\n",
      "9996     1\n",
      "9999    26\n",
      "Name: RegistrationYear, Length: 151, dtype: int64\n"
     ]
    }
   ],
   "source": [
    "print(data['RegistrationYear'].value_counts(dropna=False).sort_index())"
   ]
  },
  {
   "cell_type": "code",
   "execution_count": 11,
   "metadata": {},
   "outputs": [
    {
     "name": "stdout",
     "output_type": "stream",
     "text": [
      "0        40225\n",
      "1           34\n",
      "2           10\n",
      "3            9\n",
      "4           30\n",
      "         ...  \n",
      "17932        1\n",
      "19208        1\n",
      "19211        1\n",
      "19312        1\n",
      "20000        1\n",
      "Name: Power, Length: 712, dtype: int64\n"
     ]
    }
   ],
   "source": [
    "print(data['Power'].value_counts(dropna=False).sort_index())"
   ]
  },
  {
   "cell_type": "code",
   "execution_count": 12,
   "metadata": {},
   "outputs": [
    {
     "name": "stdout",
     "output_type": "stream",
     "text": [
      "0        40225\n",
      "1           34\n",
      "2           10\n",
      "3            9\n",
      "4           30\n",
      "         ...  \n",
      "17932        1\n",
      "19208        1\n",
      "19211        1\n",
      "19312        1\n",
      "20000        1\n",
      "Name: Power, Length: 712, dtype: int64\n"
     ]
    }
   ],
   "source": [
    "print(data['Power'].value_counts(dropna=False).sort_index())"
   ]
  },
  {
   "cell_type": "code",
   "execution_count": 13,
   "metadata": {},
   "outputs": [
    {
     "name": "stdout",
     "output_type": "stream",
     "text": [
      "no     247161\n",
      "yes     36054\n",
      "NaN     71154\n",
      "Name: NotRepaired, dtype: int64\n"
     ]
    }
   ],
   "source": [
    "print(data['NotRepaired'].value_counts(dropna=False).sort_index())"
   ]
  },
  {
   "cell_type": "markdown",
   "metadata": {},
   "source": [
    "* Значение nan трогать не будем\n",
    "* Значение yes переведем в 1\n",
    "* Значение no переведем в 0"
   ]
  },
  {
   "cell_type": "code",
   "execution_count": 14,
   "metadata": {},
   "outputs": [
    {
     "name": "stdout",
     "output_type": "stream",
     "text": [
      "0.0    247161\n",
      "1.0     36054\n",
      "NaN     71154\n",
      "Name: NotRepaired, dtype: int64\n"
     ]
    }
   ],
   "source": [
    "data.loc[data['NotRepaired'] == 'yes', 'NotRepaired'] = 1\n",
    "data.loc[data['NotRepaired'] == 'no', 'NotRepaired'] = 0\n",
    "\n",
    "print(data['NotRepaired'].value_counts(dropna=False).sort_index())"
   ]
  },
  {
   "cell_type": "code",
   "execution_count": 15,
   "metadata": {},
   "outputs": [
    {
     "data": {
      "image/png": "[encoded data removed]",
      "text/plain": [
       "<Figure size 560x140 with 1 Axes>"
      ]
     },
     "metadata": {},
     "output_type": "display_data"
    },
    {
     "data": {
      "image/png": "[encoded data removed]",
      "text/plain": [
       "<Figure size 560x140 with 1 Axes>"
      ]
     },
     "metadata": {},
     "output_type": "display_data"
    },
    {
     "data": {
      "image/png": "[encoded data removed]",
      "text/plain": [
       "<Figure size 560x140 with 1 Axes>"
      ]
     },
     "metadata": {},
     "output_type": "display_data"
    },
    {
     "data": {
      "image/png": "[encoded data removed]",
      "text/plain": [
       "<Figure size 560x140 with 1 Axes>"
      ]
     },
     "metadata": {},
     "output_type": "display_data"
    },
    {
     "data": {
      "text/html": [
       "<div>\n",
       "<style scoped>\n",
       "    .dataframe tbody tr th:only-of-type {\n",
       "        vertical-align: middle;\n",
       "    }\n",
       "\n",
       "    .dataframe tbody tr th {\n",
       "        vertical-align: top;\n",
       "    }\n",
       "\n",
       "    .dataframe thead th {\n",
       "        text-align: right;\n",
       "    }\n",
       "</style>\n",
       "<table border=\"1\" class=\"dataframe\">\n",
       "  <thead>\n",
       "    <tr style=\"text-align: right;\">\n",
       "      <th></th>\n",
       "      <th>Price</th>\n",
       "      <th>RegistrationYear</th>\n",
       "      <th>Power</th>\n",
       "      <th>Kilometer</th>\n",
       "    </tr>\n",
       "  </thead>\n",
       "  <tbody>\n",
       "    <tr>\n",
       "      <td>count</td>\n",
       "      <td>354369.000000</td>\n",
       "      <td>354369.000000</td>\n",
       "      <td>354369.000000</td>\n",
       "      <td>354369.000000</td>\n",
       "    </tr>\n",
       "    <tr>\n",
       "      <td>mean</td>\n",
       "      <td>4416.656776</td>\n",
       "      <td>2004.234448</td>\n",
       "      <td>110.094337</td>\n",
       "      <td>128211.172535</td>\n",
       "    </tr>\n",
       "    <tr>\n",
       "      <td>std</td>\n",
       "      <td>4514.158514</td>\n",
       "      <td>90.227958</td>\n",
       "      <td>189.850405</td>\n",
       "      <td>37905.341530</td>\n",
       "    </tr>\n",
       "    <tr>\n",
       "      <td>min</td>\n",
       "      <td>0.000000</td>\n",
       "      <td>1000.000000</td>\n",
       "      <td>0.000000</td>\n",
       "      <td>5000.000000</td>\n",
       "    </tr>\n",
       "    <tr>\n",
       "      <td>25%</td>\n",
       "      <td>1050.000000</td>\n",
       "      <td>1999.000000</td>\n",
       "      <td>69.000000</td>\n",
       "      <td>125000.000000</td>\n",
       "    </tr>\n",
       "    <tr>\n",
       "      <td>50%</td>\n",
       "      <td>2700.000000</td>\n",
       "      <td>2003.000000</td>\n",
       "      <td>105.000000</td>\n",
       "      <td>150000.000000</td>\n",
       "    </tr>\n",
       "    <tr>\n",
       "      <td>75%</td>\n",
       "      <td>6400.000000</td>\n",
       "      <td>2008.000000</td>\n",
       "      <td>143.000000</td>\n",
       "      <td>150000.000000</td>\n",
       "    </tr>\n",
       "    <tr>\n",
       "      <td>max</td>\n",
       "      <td>20000.000000</td>\n",
       "      <td>9999.000000</td>\n",
       "      <td>20000.000000</td>\n",
       "      <td>150000.000000</td>\n",
       "    </tr>\n",
       "  </tbody>\n",
       "</table>\n",
       "</div>"
      ],
      "text/plain": [
       "               Price  RegistrationYear          Power      Kilometer\n",
       "count  354369.000000     354369.000000  354369.000000  354369.000000\n",
       "mean     4416.656776       2004.234448     110.094337  128211.172535\n",
       "std      4514.158514         90.227958     189.850405   37905.341530\n",
       "min         0.000000       1000.000000       0.000000    5000.000000\n",
       "25%      1050.000000       1999.000000      69.000000  125000.000000\n",
       "50%      2700.000000       2003.000000     105.000000  150000.000000\n",
       "75%      6400.000000       2008.000000     143.000000  150000.000000\n",
       "max     20000.000000       9999.000000   20000.000000  150000.000000"
      ]
     },
     "execution_count": 15,
     "metadata": {},
     "output_type": "execute_result"
    }
   ],
   "source": [
    "sns.set()\n",
    "plt.subplots(figsize=(8,2), dpi=70)\n",
    "sns.boxplot(data['Price'], color=\"yellow\")\n",
    "plt.show()\n",
    "\n",
    "plt.subplots(figsize=(8,2), dpi=70)\n",
    "sns.boxplot(data['RegistrationYear'], color=\"red\")\n",
    "plt.xlim(1900, 2025)\n",
    "plt.show()\n",
    "\n",
    "plt.subplots(figsize=(8,2), dpi=70)\n",
    "sns.boxplot(data['Power'], color=\"blue\")\n",
    "plt.xlim(0, 400)\n",
    "plt.show()\n",
    "\n",
    "plt.subplots(figsize=(8,2), dpi=70)\n",
    "sns.boxplot(data['Kilometer'], color=\"green\")\n",
    "plt.xlim(0, 200000)\n",
    "plt.show()\n",
    "\n",
    "data[['Price', 'RegistrationYear', 'Power', 'Kilometer']].describe()"
   ]
  },
  {
   "cell_type": "markdown",
   "metadata": {},
   "source": [
    "Как видно из графиков, признаки имеют большие выбросы значений. Удалю выбросы из датасета."
   ]
  },
  {
   "cell_type": "code",
   "execution_count": 16,
   "metadata": {},
   "outputs": [],
   "source": [
    "data_clear = (data.query('(Price < 15000) & (Price > 100) & (RegistrationYear > 1980) & (RegistrationYear < 2020) & (Power < 400) & (Power > 50)')\n",
    "              .reset_index(drop = True)\n",
    "           )"
   ]
  },
  {
   "cell_type": "code",
   "execution_count": 17,
   "metadata": {},
   "outputs": [
    {
     "name": "stdout",
     "output_type": "stream",
     "text": [
      "<class 'pandas.core.frame.DataFrame'>\n",
      "Int64Index: 354369 entries, 0 to 354368\n",
      "Data columns (total 16 columns):\n",
      "DateCrawled          354369 non-null datetime64[ns]\n",
      "Price                354369 non-null int64\n",
      "VehicleType          316946 non-null object\n",
      "RegistrationYear     354369 non-null int64\n",
      "Gearbox              334679 non-null object\n",
      "Power                354369 non-null int64\n",
      "Model                334664 non-null object\n",
      "Kilometer            354369 non-null int64\n",
      "RegistrationMonth    354369 non-null int64\n",
      "FuelType             321632 non-null object\n",
      "Brand                354369 non-null object\n",
      "NotRepaired          283215 non-null object\n",
      "DateCreated          354369 non-null datetime64[ns]\n",
      "NumberOfPictures     354369 non-null int64\n",
      "PostalCode           354369 non-null int64\n",
      "LastSeen             354369 non-null datetime64[ns]\n",
      "dtypes: datetime64[ns](3), int64(7), object(6)\n",
      "memory usage: 56.0+ MB\n"
     ]
    }
   ],
   "source": [
    "data.info()"
   ]
  },
  {
   "cell_type": "markdown",
   "metadata": {},
   "source": [
    "Выполнил проверку данных, удалил аномалии, заполнил пропуски там где это возможно. Часть признаков анализировать нет смысла, а именно:\n",
    "\n",
    "* Model - есть пропуски, но заполнить из не удастся; искать аномалии (типа ошибок в написании) не вижу смысла\n",
    "* RegistrationMonth, PostalCode - считаю не существенными для построения модели\n",
    "* NumberOfPictures - для всех строк таблицы значение = 0"
   ]
  },
  {
   "cell_type": "markdown",
   "metadata": {},
   "source": [
    "<div class=\"alert alert-block alert-success\">\n",
    "<b>Успех:</b> Странные значения удалены на основе исследования, молодец!\n",
    "</div>"
   ]
  },
  {
   "cell_type": "markdown",
   "metadata": {},
   "source": [
    "# 2. Обучение моделей"
   ]
  },
  {
   "cell_type": "code",
   "execution_count": 18,
   "metadata": {},
   "outputs": [],
   "source": [
    "RANDOM_STATE = 12345"
   ]
  },
  {
   "cell_type": "code",
   "execution_count": 19,
   "metadata": {},
   "outputs": [],
   "source": [
    "drop_features = ['DateCrawled', 'RegistrationMonth', \n",
    "                 'DateCreated', 'NumberOfPictures', \n",
    "                 'PostalCode', 'LastSeen']\n",
    "cat_features = ['VehicleType', 'Gearbox', \n",
    "                'Model', 'FuelType', \n",
    "                'Brand', 'NotRepaired']"
   ]
  },
  {
   "cell_type": "markdown",
   "metadata": {},
   "source": [
    "<div class=\"alert alert-block alert-success\">\n",
    "<b>Успех:</b> Согласен, что эти колонки нам не нужны.\n",
    "</div>"
   ]
  },
  {
   "cell_type": "code",
   "execution_count": 20,
   "metadata": {},
   "outputs": [],
   "source": [
    "def my_OrdinalEncoder(data, features):\n",
    "    for feature in features:\n",
    "        unique_values = data[feature].unique()\n",
    "        for i in range(len(unique_values)):\n",
    "            # Проверка на nan\n",
    "            if unique_values[i] != unique_values[i]:\n",
    "                data.loc[data[feature].isnull(), feature] = i\n",
    "            else:\n",
    "                data.loc[data[feature] == unique_values[i], feature] = i"
   ]
  },
  {
   "cell_type": "code",
   "execution_count": 21,
   "metadata": {},
   "outputs": [],
   "source": [
    "x = data.drop(drop_features + ['Price'], axis=1)\n",
    "my_OrdinalEncoder(x, cat_features)\n",
    "\n",
    "y = data['Price']\n",
    "\n",
    "x_train, x_valid_test, y_train, y_valid_test = train_test_split(x, y, test_size=0.4, random_state=RANDOM_STATE)\n",
    "x_valid, x_test, y_valid, y_test = train_test_split(x_valid_test, y_valid_test, test_size=0.5, random_state=RANDOM_STATE)\n",
    "\n",
    "del x_valid_test\n",
    "del y_valid_test"
   ]
  },
  {
   "cell_type": "code",
   "execution_count": 22,
   "metadata": {},
   "outputs": [],
   "source": [
    "# Итерация градиентного бустинга\n",
    "N_ITER = 100"
   ]
  },
  {
   "cell_type": "markdown",
   "metadata": {},
   "source": [
    "### CatBoost"
   ]
  },
  {
   "cell_type": "code",
   "execution_count": 23,
   "metadata": {},
   "outputs": [
    {
     "name": "stdout",
     "output_type": "stream",
     "text": [
      "CatBoostRegressor\n",
      "RMSE для valid: 1759.948080368815\n",
      "{'iterations': 100, 'learning_rate': 0.4, 'depth': 15, 'loss_function': 'RMSE'}\n",
      "CPU times: user 7min 15s, sys: 58.1 s, total: 8min 13s\n",
      "Wall time: 8min 21s\n"
     ]
    }
   ],
   "source": [
    "%%time\n",
    "\n",
    "print('CatBoostRegressor')\n",
    "\n",
    "best_model = None\n",
    "min_rmse = 10**6\n",
    "\n",
    "for learning_rate in np.arange(0.1, 0.51, 0.3):\n",
    "    for depth in range(5, 16, 5):\n",
    "        model = CatBoostRegressor(loss_function='RMSE', iterations=N_ITER, learning_rate=learning_rate, depth=depth)\n",
    "        model.fit(x_train, y_train, cat_features=cat_features, verbose=0)\n",
    "        pred = model.predict(x_valid)\n",
    "        rmse = mean_squared_error(y_valid, pred) ** 0.5\n",
    "        if rmse < min_rmse:\n",
    "            best_model = model\n",
    "            min_rmse = rmse\n",
    "        \n",
    "print(f'RMSE для valid: {min_rmse}')\n",
    "print(best_model.get_params())"
   ]
  },
  {
   "cell_type": "markdown",
   "metadata": {},
   "source": [
    "### LightGBM"
   ]
  },
  {
   "cell_type": "code",
   "execution_count": 24,
   "metadata": {},
   "outputs": [
    {
     "name": "stdout",
     "output_type": "stream",
     "text": [
      "LGBMRegressor\n",
      "RMSE: 1861.895443243278\n",
      "{'boosting_type': 'gbdt', 'class_weight': None, 'colsample_bytree': 1.0, 'importance_type': 'split', 'learning_rate': 0.1, 'max_depth': 15, 'min_child_samples': 20, 'min_child_weight': 0.001, 'min_split_gain': 0.0, 'n_estimators': 100, 'n_jobs': -1, 'num_leaves': 30, 'objective': None, 'random_state': None, 'reg_alpha': 0.0, 'reg_lambda': 0.0, 'silent': True, 'subsample': 1.0, 'subsample_for_bin': 200000, 'subsample_freq': 0}\n",
      "CPU times: user 4min 5s, sys: 284 ms, total: 4min 6s\n",
      "Wall time: 4min 8s\n"
     ]
    }
   ],
   "source": [
    "%%time\n",
    "\n",
    "print('LGBMRegressor')\n",
    "\n",
    "best_model = None\n",
    "min_rmse = 10**6\n",
    "\n",
    "for num_leaves in range(10, 31, 10):\n",
    "    for learning_rate in np.arange(0.1, 0.31, 0.5):\n",
    "        for max_depth in range(5, 16, 5):\n",
    "            model = LGBMRegressor(num_leaves=num_leaves, learning_rate=learning_rate, max_depth=max_depth, n_estimators=N_ITER)\n",
    "            model.fit(x_train, y_train, eval_set=[(x_valid, y_valid)], eval_metric='RMSE', verbose=0)\n",
    "            pred = model.predict(x_valid)\n",
    "            rmse = mean_squared_error(y_valid, pred) ** 0.5\n",
    "            if rmse < min_rmse:\n",
    "                best_model = model\n",
    "                min_rmse = rmse\n",
    "\n",
    "print(f'RMSE: {min_rmse}')\n",
    "print(best_model.get_params())"
   ]
  },
  {
   "cell_type": "markdown",
   "metadata": {},
   "source": [
    "<div class=\"alert alert-block alert-success\">\n",
    "<b>Успех:</b> Молодец, что попробовал несколько моделей и подобрал к ним парамтеры.\n",
    "</div>"
   ]
  },
  {
   "cell_type": "markdown",
   "metadata": {},
   "source": [
    "<div class=\"alert alert-block alert-info\">\n",
    "<b>Совет: </b> В будущем, для подбора параметров желательно использовать методы основанные на кросс-валидации.\n",
    "</div>"
   ]
  },
  {
   "cell_type": "markdown",
   "metadata": {},
   "source": [
    "<div class=\"alert alert-block alert-info\">\n",
    "<b>Совет: </b> Также желательно было попробовать метода из других классов. Например, линейную модель.\n",
    "</div>"
   ]
  },
  {
   "cell_type": "markdown",
   "metadata": {},
   "source": [
    "# 3. Анализ моделей"
   ]
  },
  {
   "cell_type": "code",
   "execution_count": 25,
   "metadata": {},
   "outputs": [
    {
     "name": "stdout",
     "output_type": "stream",
     "text": [
      "RMSE для test: 1876.900250171504\n",
      "CPU times: user 744 ms, sys: 1.12 ms, total: 745 ms\n",
      "Wall time: 704 ms\n"
     ]
    }
   ],
   "source": [
    "%%time\n",
    "\n",
    "pred = best_model.predict(x_test)\n",
    "catboost_rmse = mean_squared_error(y_test, pred) ** 0.5\n",
    "print(f'RMSE для test: {catboost_rmse}')"
   ]
  },
  {
   "cell_type": "code",
   "execution_count": 26,
   "metadata": {},
   "outputs": [
    {
     "name": "stdout",
     "output_type": "stream",
     "text": [
      "RMSE для test: 1876.900250171504\n",
      "CPU times: user 727 ms, sys: 1.92 ms, total: 729 ms\n",
      "Wall time: 709 ms\n"
     ]
    }
   ],
   "source": [
    "%%time\n",
    "\n",
    "pred = best_model.predict(x_test)\n",
    "lightgbm_rmse = mean_squared_error(y_test, pred) ** 0.5\n",
    "print(f'RMSE для test: {lightgbm_rmse}')"
   ]
  },
  {
   "cell_type": "markdown",
   "metadata": {},
   "source": [
    "Обученная LightGBM работает немного быстрее, чем Catboost.\n",
    "Качество моделей примерно одинаковое. Видимо, за счет удачного подбора гиперпараметров LightGBM немного вышел вперед."
   ]
  },
  {
   "cell_type": "markdown",
   "metadata": {},
   "source": [
    "<div class=\"alert alert-block alert-info\">\n",
    "<b>Совет: </b> Сравнивать время подбора параметров вообще не имеет смысла, так как оно сильно зависит от нас (какой диапазон укажем). Лучше сравнить время обучения модели с лучшими парамтерами.\n",
    "</div>"
   ]
  },
  {
   "cell_type": "markdown",
   "metadata": {},
   "source": [
    "<div class=\"alert alert-block alert-success\">\n",
    "<b>Успех:</b> А вот время предсказания – довольно важный показатель (часто важнее, чем время обучения). Радует, что ты обратил на него внимание.\n",
    "</div>"
   ]
  },
  {
   "cell_type": "markdown",
   "metadata": {},
   "source": [
    "<div class=\"alert alert-block alert-info\">\n",
    "<b>Совет: </b> Можно было еще добавить финальный вывод.\n",
    "</div>"
   ]
  },
  {
   "cell_type": "markdown",
   "metadata": {},
   "source": [
    "## Чек-лист проверки"
   ]
  },
  {
   "cell_type": "markdown",
   "metadata": {},
   "source": [
    "Поставьте 'x' в выполненных пунктах. Далее нажмите Shift+Enter."
   ]
  },
  {
   "cell_type": "markdown",
   "metadata": {},
   "source": [
    "- [x]  Jupyter Notebook открыт\n",
    "- [ ]  Весь код выполняется без ошибок\n",
    "- [ ]  Ячейки с кодом расположены в порядке исполнения\n",
    "- [ ]  Выполнена загрузка и подготовка данных\n",
    "- [ ]  Выполнено обучение моделей\n",
    "- [ ]  Есть анализ скорости работы и качества моделей"
   ]
  },
  {
   "cell_type": "code",
   "execution_count": null,
   "metadata": {},
   "outputs": [],
   "source": []
  }
 ],
 "metadata": {
  "kernelspec": {
   "display_name": "Python 3",
   "language": "python",
   "name": "python3"
  },
  "language_info": {
   "codemirror_mode": {
    "name": "ipython",
    "version": 3
   },
   "file_extension": ".py",
   "mimetype": "text/x-python",
   "name": "python",
   "nbconvert_exporter": "python",
   "pygments_lexer": "ipython3",
   "version": "3.7.8"
  },
  "toc": {
   "base_numbering": 1,
   "nav_menu": {},
   "number_sections": true,
   "sideBar": true,
   "skip_h1_title": true,
   "title_cell": "Table of Contents",
   "title_sidebar": "Contents",
   "toc_cell": false,
   "toc_position": {},
   "toc_section_display": true,
   "toc_window_display": false
  }
 },
 "nbformat": 4,
 "nbformat_minor": 2
}
